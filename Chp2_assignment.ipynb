{
 "cells": [
  {
   "cell_type": "markdown",
   "id": "17bc2242",
   "metadata": {},
   "source": [
    "# Data Science Tools and Ecosystem"
   ]
  },
  {
   "cell_type": "markdown",
   "id": "36ac944f",
   "metadata": {},
   "source": [
    "In this notebook, Data Science Tools and Ecosystem are summarized."
   ]
  },
  {
   "cell_type": "markdown",
   "id": "84efffac",
   "metadata": {},
   "source": [
    "### Objectives:\n",
    "- List popular languages for Data Science\n",
    "- List commonly used libraries used by Data Scientists\n",
    "- List different Data Science Tools\n",
    "- Basic Arithmetic Calculation"
   ]
  },
  {
   "cell_type": "markdown",
   "id": "91c236ed",
   "metadata": {},
   "source": [
    "Some of the popular languages that Data Scientists use are:\n",
    "1. Python\n",
    "2. C#\n",
    "3. Java\n",
    "4. R"
   ]
  },
  {
   "cell_type": "markdown",
   "id": "303f0b2d",
   "metadata": {},
   "source": [
    "Some of the commonly used libraries used by Data Scientists include:\n",
    "1. Numpy\n",
    "2. Matplotlib\n",
    "3. TensorFLow (used for machine learning and AI)\n",
    "4. Sci-kit Learn (used for machine learning)\n",
    "5. Seaborn (data visualisation)"
   ]
  },
  {
   "cell_type": "markdown",
   "id": "9f61b107",
   "metadata": {},
   "source": [
    "|Database Management|Data Integration|Data Visualisation Tools|Code Asset Management|Development Environments|\n",
    "|-------------------|----------------|------------------------|---------------------|------------------------|\n",
    "|MySQL for Relational Database  Management|Apache Airflow|Tableau and PowerBI|Git| Jupyter Notebooks|\n",
    "|Apache Cassandra for NoSQL Databases|Apache Kafka|Cognos Analytics| GitHub (Web-Based)| RStudio |\n",
    "|Apache Hadoop for Big Data analytics|\n",
    "|Apache Spark for Big Data analytics|\n",
    "\n"
   ]
  },
  {
   "cell_type": "markdown",
   "id": "6252800f",
   "metadata": {},
   "source": [
    "Below are a few examples of evaluating arithmetic expressions in Python:"
   ]
  },
  {
   "cell_type": "code",
   "execution_count": 2,
   "id": "fff0018d",
   "metadata": {},
   "outputs": [
    {
     "data": {
      "text/plain": [
       "17"
      ]
     },
     "execution_count": 2,
     "metadata": {},
     "output_type": "execute_result"
    }
   ],
   "source": [
    "x = (3*4)+5 #This a simple arithmetic expression to mutiply then add integers\n",
    "x"
   ]
  },
  {
   "cell_type": "code",
   "execution_count": 3,
   "id": "a3e76772",
   "metadata": {},
   "outputs": [
    {
     "data": {
      "text/plain": [
       "3.3333333333333335"
      ]
     },
     "execution_count": 3,
     "metadata": {},
     "output_type": "execute_result"
    }
   ],
   "source": [
    "m = 200\n",
    "h = m/60 #This will convert 200 minutes to hours by diving by 60\n",
    "h"
   ]
  },
  {
   "cell_type": "markdown",
   "id": "91b16d00",
   "metadata": {},
   "source": [
    "## Author\n",
    "Kevin Calvache Ramos"
   ]
  }
 ],
 "metadata": {
  "kernelspec": {
   "display_name": "Python 3",
   "language": "python",
   "name": "python3"
  },
  "language_info": {
   "codemirror_mode": {
    "name": "ipython",
    "version": 3
   },
   "file_extension": ".py",
   "mimetype": "text/x-python",
   "name": "python",
   "nbconvert_exporter": "python",
   "pygments_lexer": "ipython3",
   "version": "3.8.8"
  }
 },
 "nbformat": 4,
 "nbformat_minor": 5
}
